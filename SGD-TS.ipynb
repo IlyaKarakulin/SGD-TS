{
 "cells": [
  {
   "cell_type": "markdown",
   "metadata": {},
   "source": [
    "# Online stochastic gradient descent with Thompson Sampling"
   ]
  },
  {
   "cell_type": "markdown",
   "metadata": {},
   "source": [
    "https://arxiv.org/pdf/2006.04012"
   ]
  },
  {
   "cell_type": "markdown",
   "metadata": {},
   "source": [
    "![formulas](./3_4.png)"
   ]
  },
  {
   "cell_type": "markdown",
   "metadata": {},
   "source": [
    "![formulas](./5_6_7.png)\n"
   ]
  },
  {
   "cell_type": "markdown",
   "metadata": {},
   "source": [
    "![formulas](./alg.png)\n"
   ]
  },
  {
   "cell_type": "code",
   "execution_count": 1,
   "metadata": {},
   "outputs": [],
   "source": [
    "from sklearn.datasets import fetch_openml\n",
    "from sklearn.preprocessing import OneHotEncoder\n",
    "import numpy as np\n",
    "import matplotlib.pyplot as plt"
   ]
  },
  {
   "cell_type": "code",
   "execution_count": null,
   "metadata": {},
   "outputs": [],
   "source": [
    "class SGDTSBandit:\n",
    "    def __init__(self, d, K=2, tau=100, alpha=5.0, R=1.0, c1=1.0, c3=0.25, T=10000):\n",
    "        self.d = d\n",
    "        self.K = K\n",
    "        self.tau = tau\n",
    "        self.alpha = alpha\n",
    "        self.R = R\n",
    "        self.c1 = c1\n",
    "        self.c3 = c3\n",
    "        self.T = T\n",
    "\n",
    "        self.X_hist = []\n",
    "        self.Y_hist = []\n",
    "        \n",
    "        self.t = 0\n",
    "        self.theta_hat = None\n",
    "        self.C_center = None\n",
    "        self.C_radius = 2.0\n",
    "        self.theta = None\n",
    "        self.tilde_theta = []\n",
    "        self.theta_ts = None\n",
    "        self.j = 0\n",
    "        \n",
    "    @staticmethod\n",
    "    def sigmoid(x):\n",
    "        return 1 / (1 + np.exp(-x))\n",
    "    \n",
    "    def __project_to_C(self, theta):\n",
    "\n",
    "        delta = theta - self.C_center\n",
    "        norm = np.linalg.norm(delta)\n",
    "\n",
    "        if norm > self.C_radius:\n",
    "            return self.C_center + self.C_radius * delta / norm\n",
    "        else:\n",
    "            return theta\n",
    "    \n",
    "    def __random_pull(self, X_arms):\n",
    "        \"Случайное действие в exploration-старте\"\n",
    "        return np.random.randint(self.K)\n",
    "    \n",
    "    def __collect_history(self, X, reward):\n",
    "        \"Сохраняем наблюдения\"\n",
    "        self.X_hist.append(X)\n",
    "        self.Y_hist.append(reward)\n",
    "    \n",
    "    def __count_MLE(self):\n",
    "        \"MLE на первых tau шагах (по всей истории на этом этапе)\"\n",
    "        X_tau = np.array(self.X_hist)\n",
    "        Y_tau = np.array(self.Y_hist)\n",
    "        theta = np.zeros(self.d)\n",
    "\n",
    "        lr = 0.1\n",
    "        for _ in range(200):\n",
    "            preds = self.sigmoid(X_tau @ theta)\n",
    "            grad = -np.dot((Y_tau - preds), X_tau)\n",
    "            theta -= lr * grad / self.tau\n",
    "        return theta\n",
    "    \n",
    "    def __init_C_and_theta0(self, theta_hat):\n",
    "        \"Запуск: инициализация выпуклого множества и оценок SGD\"\n",
    "        self.C_center = theta_hat.copy()\n",
    "        self.theta = theta_hat.copy()\n",
    "        self.tilde_theta = [theta_hat.copy()]\n",
    "        self.j = 1   # первое окно\n",
    "    \n",
    "    def __sgd_update(self):\n",
    "        \"Каждые tau раундов: один шаг SGD по последним tau наблюдениям\"\n",
    "\n",
    "        X_tau = np.array(self.X_hist[-self.tau:])\n",
    "        Y_tau = np.array(self.Y_hist[-self.tau:])\n",
    "        eta_j = 1 / (self.alpha * self.j)\n",
    "\n",
    "        grad = np.zeros(self.d)\n",
    "\n",
    "        for i in range(self.tau):\n",
    "            grad += (-Y_tau[i] + self.sigmoid(X_tau[i] @ self.theta)) * X_tau[i]\n",
    "\n",
    "        new_theta = self.theta - eta_j * grad\n",
    "        self.theta = self.__project_to_C(new_theta)\n",
    "        self.tilde_theta.append(self.theta.copy())\n",
    "    \n",
    "    def __get_means(self):\n",
    "        \"Вычисляем среднее по SGD-оценкам\"\n",
    "        return np.mean(self.tilde_theta, axis=0)\n",
    "    \n",
    "    def __sample_theta_ts(self):\n",
    "        \"Сэмплируем параметр для Thompson Sampling\"\n",
    "        j = self.j\n",
    "        g1 = self.R / self.c1 * np.sqrt(self.d * (2 * np.log(1 + 2 * j * self.tau / self.d) + 2 * np.log(self.T))) #! (6)\n",
    "        g2 = self.tau / self.alpha * np.sqrt(1 + np.log(j)) #! (7)\n",
    "        A = ((2 * self.c3 * g1 ** 2) / (self.alpha * j) + 2 * g2 ** 2 / j) * np.eye(self.d) #! (5)\n",
    "        theta_bar = self.__get_means()\n",
    "        self.theta_ts = np.random.multivariate_normal(theta_bar, A)\n",
    "        \n",
    "    def select_arm(self, X_arms):\n",
    "        self.t += 1\n",
    "        \n",
    "        # случайно выбираем arm первые tau шагов\n",
    "        if self.t <= self.tau:\n",
    "            return self.__random_pull(X_arms)\n",
    "        \n",
    "        # Каждые tau шагов: обновить SGD и Thompson Sampling\n",
    "        if self.t % self.tau == 1:\n",
    "            self.j += 1\n",
    "            self.__sgd_update()\n",
    "\n",
    "            self.__sample_theta_ts()\n",
    "        \n",
    "        preds = self.sigmoid(X_arms @ self.theta_ts)\n",
    "        return np.argmax(preds)\n",
    "    \n",
    "    def update(self, X, reward):\n",
    "        self.__collect_history(X, reward)\n",
    "        \n",
    "        if self.t == self.tau:\n",
    "            theta_hat = self.__count_MLE()\n",
    "            self.theta_hat = theta_hat.copy()\n",
    "            self.__init_C_and_theta0(theta_hat)\n",
    "            self.__sample_theta_ts()"
   ]
  },
  {
   "cell_type": "code",
   "execution_count": 6,
   "metadata": {},
   "outputs": [],
   "source": [
    "# Загрузка данных\n",
    "df = fetch_openml('mushroom', version=1, as_frame=True).frame\n",
    "y = (df['class'] == 'p').astype(int)  # poisonous=1, edible=0\n",
    "X = df.drop('class', axis=1)\n",
    "\n",
    "ohe = OneHotEncoder(sparse_output=False)\n",
    "X_ohe = ohe.fit_transform(X)\n",
    "d = X_ohe.shape[1]\n",
    "N = X_ohe.shape[0]\n"
   ]
  },
  {
   "cell_type": "code",
   "execution_count": 7,
   "metadata": {},
   "outputs": [],
   "source": [
    "model = SGDTSBandit(d, K=2, tau=100, alpha=5.0, T=N)\n",
    "cum_regret = []\n",
    "total_regret = 0\n",
    "num_iter = 3000\n",
    "\n",
    "for t in range(num_iter):\n",
    "    xi = X_ohe[t]\n",
    "\n",
    "    contexts = np.vstack([xi, xi])  # две \"arms\" — обе с одним и тем же контекстом\n",
    "\n",
    "    arm = model.select_arm(contexts)\n",
    "    regret = int(arm != y.iloc[t])\n",
    "    model.update(xi, regret)\n",
    "    total_regret += regret\n",
    "    \n",
    "    cum_regret.append(total_regret)\n"
   ]
  },
  {
   "cell_type": "code",
   "execution_count": 8,
   "metadata": {},
   "outputs": [
    {
     "data": {
      "image/png": "[encoded data removed]",
      "text/plain": [
       "<Figure size 800x500 with 1 Axes>"
      ]
     },
     "metadata": {},
     "output_type": "display_data"
    }
   ],
   "source": [
    "plt.figure(figsize=(8,5))\n",
    "plt.plot(cum_regret)\n",
    "plt.xlabel('Iteration')\n",
    "plt.ylabel('Cumulative regret')\n",
    "plt.title('SGD-TS cumulative regret on Mushroom')\n",
    "plt.ylim(0, num_iter)\n",
    "plt.show()"
   ]
  }
 ],
 "metadata": {
  "kernelspec": {
   "display_name": "DL",
   "language": "python",
   "name": "python3"
  },
  "language_info": {
   "codemirror_mode": {
    "name": "ipython",
    "version": 3
   },
   "file_extension": ".py",
   "mimetype": "text/x-python",
   "name": "python",
   "nbconvert_exporter": "python",
   "pygments_lexer": "ipython3",
   "version": "3.10.13"
  }
 },
 "nbformat": 4,
 "nbformat_minor": 2
}
